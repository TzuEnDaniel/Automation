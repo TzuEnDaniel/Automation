{
 "cells": [
  {
   "cell_type": "code",
   "execution_count": 1,
   "metadata": {},
   "outputs": [],
   "source": [
    "import webbrowser\n",
    "import winsound\n",
    "import emoji\n",
    "from emoji import UNICODE_EMOJI\n",
    "\n",
    "import os\n",
    "from selenium import webdriver\n",
    "from selenium.webdriver.support.ui import WebDriverWait\n",
    "import time\n",
    "from selenium.common.exceptions import NoSuchElementException\n",
    "from selenium import webdriver\n",
    "from selenium.webdriver.common.keys import Keys\n",
    "import time\n",
    "from tkinter import *\n",
    "from tkinter import messagebox"
   ]
  },
  {
   "cell_type": "code",
   "execution_count": 14,
   "metadata": {
    "scrolled": true
   },
   "outputs": [
    {
     "ename": "NoSuchElementException",
     "evalue": "Message: no such element: Unable to locate element: {\"method\":\"css selector\",\"selector\":\".command-name\"}\n  (Session info: chrome=95.0.4638.69)\n",
     "output_type": "error",
     "traceback": [
      "\u001b[1;31m---------------------------------------------------------------------------\u001b[0m",
      "\u001b[1;31mNoSuchElementException\u001b[0m                    Traceback (most recent call last)",
      "\u001b[1;32m<ipython-input-14-44524624cf66>\u001b[0m in \u001b[0;36m<module>\u001b[1;34m\u001b[0m\n\u001b[0;32m      9\u001b[0m \u001b[0mdriver\u001b[0m\u001b[1;33m.\u001b[0m\u001b[0mfind_element_by_class_name\u001b[0m\u001b[1;33m(\u001b[0m\u001b[1;34m\"tool-button.normal-tool-button.show-command\"\u001b[0m\u001b[1;33m)\u001b[0m\u001b[1;33m.\u001b[0m\u001b[0mclick\u001b[0m\u001b[1;33m(\u001b[0m\u001b[1;33m)\u001b[0m\u001b[1;33m\u001b[0m\u001b[1;33m\u001b[0m\u001b[0m\n\u001b[0;32m     10\u001b[0m \u001b[0mtime\u001b[0m\u001b[1;33m.\u001b[0m\u001b[0msleep\u001b[0m\u001b[1;33m(\u001b[0m\u001b[1;36m2\u001b[0m\u001b[1;33m)\u001b[0m\u001b[1;33m\u001b[0m\u001b[1;33m\u001b[0m\u001b[0m\n\u001b[1;32m---> 11\u001b[1;33m \u001b[0mdriver\u001b[0m\u001b[1;33m.\u001b[0m\u001b[0mfind_element_by_class_name\u001b[0m\u001b[1;33m(\u001b[0m\u001b[1;34m\"command-name\"\u001b[0m\u001b[1;33m)\u001b[0m\u001b[1;33m.\u001b[0m\u001b[0mclick\u001b[0m\u001b[1;33m(\u001b[0m\u001b[1;33m)\u001b[0m\u001b[1;33m\u001b[0m\u001b[1;33m\u001b[0m\u001b[0m\n\u001b[0m\u001b[0;32m     12\u001b[0m \u001b[0mtime\u001b[0m\u001b[1;33m.\u001b[0m\u001b[0msleep\u001b[0m\u001b[1;33m(\u001b[0m\u001b[1;36m1\u001b[0m\u001b[1;33m)\u001b[0m\u001b[1;33m\u001b[0m\u001b[1;33m\u001b[0m\u001b[0m\n\u001b[0;32m     13\u001b[0m \u001b[0mdriver\u001b[0m\u001b[1;33m.\u001b[0m\u001b[0mfind_element_by_css_selector\u001b[0m\u001b[1;33m(\u001b[0m\u001b[1;34m\"input[type='text']\"\u001b[0m\u001b[1;33m)\u001b[0m\u001b[1;33m.\u001b[0m\u001b[0msend_keys\u001b[0m\u001b[1;33m(\u001b[0m\u001b[1;34m'嗨尋找腹肌控的妳'\u001b[0m\u001b[1;33m)\u001b[0m\u001b[1;33m\u001b[0m\u001b[1;33m\u001b[0m\u001b[0m\n",
      "\u001b[1;32m~\\Anaconda3\\lib\\site-packages\\selenium\\webdriver\\remote\\webdriver.py\u001b[0m in \u001b[0;36mfind_element_by_class_name\u001b[1;34m(self, name)\u001b[0m\n\u001b[0;32m    562\u001b[0m             \u001b[0melement\u001b[0m \u001b[1;33m=\u001b[0m \u001b[0mdriver\u001b[0m\u001b[1;33m.\u001b[0m\u001b[0mfind_element_by_class_name\u001b[0m\u001b[1;33m(\u001b[0m\u001b[1;34m'foo'\u001b[0m\u001b[1;33m)\u001b[0m\u001b[1;33m\u001b[0m\u001b[1;33m\u001b[0m\u001b[0m\n\u001b[0;32m    563\u001b[0m         \"\"\"\n\u001b[1;32m--> 564\u001b[1;33m         \u001b[1;32mreturn\u001b[0m \u001b[0mself\u001b[0m\u001b[1;33m.\u001b[0m\u001b[0mfind_element\u001b[0m\u001b[1;33m(\u001b[0m\u001b[0mby\u001b[0m\u001b[1;33m=\u001b[0m\u001b[0mBy\u001b[0m\u001b[1;33m.\u001b[0m\u001b[0mCLASS_NAME\u001b[0m\u001b[1;33m,\u001b[0m \u001b[0mvalue\u001b[0m\u001b[1;33m=\u001b[0m\u001b[0mname\u001b[0m\u001b[1;33m)\u001b[0m\u001b[1;33m\u001b[0m\u001b[1;33m\u001b[0m\u001b[0m\n\u001b[0m\u001b[0;32m    565\u001b[0m \u001b[1;33m\u001b[0m\u001b[0m\n\u001b[0;32m    566\u001b[0m     \u001b[1;32mdef\u001b[0m \u001b[0mfind_elements_by_class_name\u001b[0m\u001b[1;33m(\u001b[0m\u001b[0mself\u001b[0m\u001b[1;33m,\u001b[0m \u001b[0mname\u001b[0m\u001b[1;33m)\u001b[0m\u001b[1;33m:\u001b[0m\u001b[1;33m\u001b[0m\u001b[1;33m\u001b[0m\u001b[0m\n",
      "\u001b[1;32m~\\Anaconda3\\lib\\site-packages\\selenium\\webdriver\\remote\\webdriver.py\u001b[0m in \u001b[0;36mfind_element\u001b[1;34m(self, by, value)\u001b[0m\n\u001b[0;32m    976\u001b[0m         return self.execute(Command.FIND_ELEMENT, {\n\u001b[0;32m    977\u001b[0m             \u001b[1;34m'using'\u001b[0m\u001b[1;33m:\u001b[0m \u001b[0mby\u001b[0m\u001b[1;33m,\u001b[0m\u001b[1;33m\u001b[0m\u001b[1;33m\u001b[0m\u001b[0m\n\u001b[1;32m--> 978\u001b[1;33m             'value': value})['value']\n\u001b[0m\u001b[0;32m    979\u001b[0m \u001b[1;33m\u001b[0m\u001b[0m\n\u001b[0;32m    980\u001b[0m     \u001b[1;32mdef\u001b[0m \u001b[0mfind_elements\u001b[0m\u001b[1;33m(\u001b[0m\u001b[0mself\u001b[0m\u001b[1;33m,\u001b[0m \u001b[0mby\u001b[0m\u001b[1;33m=\u001b[0m\u001b[0mBy\u001b[0m\u001b[1;33m.\u001b[0m\u001b[0mID\u001b[0m\u001b[1;33m,\u001b[0m \u001b[0mvalue\u001b[0m\u001b[1;33m=\u001b[0m\u001b[1;32mNone\u001b[0m\u001b[1;33m)\u001b[0m\u001b[1;33m:\u001b[0m\u001b[1;33m\u001b[0m\u001b[1;33m\u001b[0m\u001b[0m\n",
      "\u001b[1;32m~\\Anaconda3\\lib\\site-packages\\selenium\\webdriver\\remote\\webdriver.py\u001b[0m in \u001b[0;36mexecute\u001b[1;34m(self, driver_command, params)\u001b[0m\n\u001b[0;32m    319\u001b[0m         \u001b[0mresponse\u001b[0m \u001b[1;33m=\u001b[0m \u001b[0mself\u001b[0m\u001b[1;33m.\u001b[0m\u001b[0mcommand_executor\u001b[0m\u001b[1;33m.\u001b[0m\u001b[0mexecute\u001b[0m\u001b[1;33m(\u001b[0m\u001b[0mdriver_command\u001b[0m\u001b[1;33m,\u001b[0m \u001b[0mparams\u001b[0m\u001b[1;33m)\u001b[0m\u001b[1;33m\u001b[0m\u001b[1;33m\u001b[0m\u001b[0m\n\u001b[0;32m    320\u001b[0m         \u001b[1;32mif\u001b[0m \u001b[0mresponse\u001b[0m\u001b[1;33m:\u001b[0m\u001b[1;33m\u001b[0m\u001b[1;33m\u001b[0m\u001b[0m\n\u001b[1;32m--> 321\u001b[1;33m             \u001b[0mself\u001b[0m\u001b[1;33m.\u001b[0m\u001b[0merror_handler\u001b[0m\u001b[1;33m.\u001b[0m\u001b[0mcheck_response\u001b[0m\u001b[1;33m(\u001b[0m\u001b[0mresponse\u001b[0m\u001b[1;33m)\u001b[0m\u001b[1;33m\u001b[0m\u001b[1;33m\u001b[0m\u001b[0m\n\u001b[0m\u001b[0;32m    322\u001b[0m             response['value'] = self._unwrap_value(\n\u001b[0;32m    323\u001b[0m                 response.get('value', None))\n",
      "\u001b[1;32m~\\Anaconda3\\lib\\site-packages\\selenium\\webdriver\\remote\\errorhandler.py\u001b[0m in \u001b[0;36mcheck_response\u001b[1;34m(self, response)\u001b[0m\n\u001b[0;32m    240\u001b[0m                 \u001b[0malert_text\u001b[0m \u001b[1;33m=\u001b[0m \u001b[0mvalue\u001b[0m\u001b[1;33m[\u001b[0m\u001b[1;34m'alert'\u001b[0m\u001b[1;33m]\u001b[0m\u001b[1;33m.\u001b[0m\u001b[0mget\u001b[0m\u001b[1;33m(\u001b[0m\u001b[1;34m'text'\u001b[0m\u001b[1;33m)\u001b[0m\u001b[1;33m\u001b[0m\u001b[1;33m\u001b[0m\u001b[0m\n\u001b[0;32m    241\u001b[0m             \u001b[1;32mraise\u001b[0m \u001b[0mexception_class\u001b[0m\u001b[1;33m(\u001b[0m\u001b[0mmessage\u001b[0m\u001b[1;33m,\u001b[0m \u001b[0mscreen\u001b[0m\u001b[1;33m,\u001b[0m \u001b[0mstacktrace\u001b[0m\u001b[1;33m,\u001b[0m \u001b[0malert_text\u001b[0m\u001b[1;33m)\u001b[0m\u001b[1;33m\u001b[0m\u001b[1;33m\u001b[0m\u001b[0m\n\u001b[1;32m--> 242\u001b[1;33m         \u001b[1;32mraise\u001b[0m \u001b[0mexception_class\u001b[0m\u001b[1;33m(\u001b[0m\u001b[0mmessage\u001b[0m\u001b[1;33m,\u001b[0m \u001b[0mscreen\u001b[0m\u001b[1;33m,\u001b[0m \u001b[0mstacktrace\u001b[0m\u001b[1;33m)\u001b[0m\u001b[1;33m\u001b[0m\u001b[1;33m\u001b[0m\u001b[0m\n\u001b[0m\u001b[0;32m    243\u001b[0m \u001b[1;33m\u001b[0m\u001b[0m\n\u001b[0;32m    244\u001b[0m     \u001b[1;32mdef\u001b[0m \u001b[0m_value_or_default\u001b[0m\u001b[1;33m(\u001b[0m\u001b[0mself\u001b[0m\u001b[1;33m,\u001b[0m \u001b[0mobj\u001b[0m\u001b[1;33m,\u001b[0m \u001b[0mkey\u001b[0m\u001b[1;33m,\u001b[0m \u001b[0mdefault\u001b[0m\u001b[1;33m)\u001b[0m\u001b[1;33m:\u001b[0m\u001b[1;33m\u001b[0m\u001b[1;33m\u001b[0m\u001b[0m\n",
      "\u001b[1;31mNoSuchElementException\u001b[0m: Message: no such element: Unable to locate element: {\"method\":\"css selector\",\"selector\":\".command-name\"}\n  (Session info: chrome=95.0.4638.69)\n"
     ]
    }
   ],
   "source": [
    "from selenium import webdriver\n",
    "from selenium.webdriver.common.keys import Keys\n",
    "import time\n",
    "driver = webdriver.Chrome('C:\\\\Users\\\\CloudMosa\\\\Downloads\\\\jupyter\\\\chromedriver.exe')\n",
    "driver.get('https://knock.tw/')\n",
    "driver.implicitly_wait(5)\n",
    "driver.find_element_by_css_selector(\"button[class='start']\").click()\n",
    "driver.implicitly_wait(5)\n",
    "driver.find_element_by_class_name(\"tool-button.normal-tool-button.show-command\").click()\n",
    "time.sleep(2)\n",
    "driver.find_element_by_class_name(\"command-name\").click()\n",
    "time.sleep(1)\n",
    "driver.find_element_by_css_selector(\"input[type='text']\").send_keys('input your greeting')\n",
    "time.sleep(1)\n",
    "driver.find_element_by_css_selector(\"button[class='confirm']\").click()\n"
   ]
  },
  {
   "cell_type": "code",
   "execution_count": null,
   "metadata": {},
   "outputs": [],
   "source": [
    "i=1"
   ]
  },
  {
   "cell_type": "code",
   "execution_count": 15,
   "metadata": {
    "tags": []
   },
   "outputs": [
    {
     "name": "stdout",
     "output_type": "stream",
     "text": [
      "第 10 個15秒內離開\n",
      "第 11 個標籤 180 24台北男\n",
      "第 12 個標籤 男找女聊\n",
      "第 13 個15秒內離開\n",
      "第 14 個15秒內沒離開\n",
      "第 14 個15秒內沒人回話系統離開\n",
      "第 15 個15秒內沒離開\n",
      "第 15 個15秒內沒人回話系統離開\n",
      "第 16 個標籤 新竹非單男\n",
      "第 17 個標籤 新竹非單男\n",
      "第 18 個標籤 找非單女\n",
      "第 19 個標籤 男找女聊\n",
      "第 20 個標籤 找非單女\n",
      "第 21 個標籤 新竹男找泡湯\n",
      "第 22 個標籤 39 叔\n",
      "第 23 個標籤 新竹男找泡湯\n",
      "第 24 個15秒內離開\n",
      "第 25 個15秒內離開\n",
      "第 26 個標籤 新竹男找泡湯\n",
      "第 27 個標籤 找非單女\n",
      "第 28 個15秒內沒離開\n",
      "第 28 個15秒內沒人回話系統離開\n",
      "第 29 個15秒內沒離開\n",
      "第 29 個15秒內沒人回話系統離開\n",
      "第 30 個標籤 S男找m女\n",
      "第 31 個標籤 15\n",
      "第 32 個標籤 找非單女\n",
      "第 33 個標籤 新竹男找泡湯\n",
      "第 34 個標籤 北部非單女請舉手\n",
      "第 35 個標籤 是穿黑bra的女孩嗎\n",
      "第 36 個15秒內離開\n",
      "第 37 個15秒內離開\n",
      "第 38 個標籤 新北非單男\n",
      "第 39 個標籤 北部非單女請舉手\n",
      "第 40 個15秒內沒離開\n",
      "第 40 個15秒內沒人回話系統離開\n",
      "第 41 個標籤 新北男\n",
      "第 42 個標籤 北部非單女請舉手\n",
      "第 43 個標籤 北部非單女請舉手\n",
      "第 44 個標籤 新竹男看夜景\n",
      "第 45 個標籤 新竹男找泡湯\n",
      "第 46 個標籤 高雄男\n",
      "第 47 個標籤 15\n",
      "第 48 個15秒內沒離開\n",
      "第 48 個15秒內沒人回話系統離開\n",
      "第 49 個標籤 北部非單女請舉手\n",
      "第 50 個15秒內離開\n",
      "第 51 個標籤 180 24台北男\n",
      "第 52 個15秒內沒離開\n",
      "第 52 個15秒內沒人回話系統離開\n",
      "第 53 個15秒內離開\n",
      "第 54 個15秒內離開\n",
      "第 55 個15秒內離開\n",
      "第 56 個15秒內離開\n",
      "第 57 個標籤 台南單身熟男\n",
      "第 58 個15秒內沒離開\n",
      "第 58 個15秒內沒人回話系統離開\n",
      "第 59 個15秒內沒離開\n",
      "第 59 15秒內回話 嗨\n",
      "error\n",
      "第 60 個15秒內沒離開\n",
      "第 61 個男 男\n",
      "第 61 個15秒內離開\n",
      "第 62 個15秒內離開\n",
      "第 63 個15秒內離開\n",
      "第 64 個15秒內離開\n",
      "第 65 個標籤 台北\n",
      "第 66 個標籤 新竹新手村男\n",
      "第 67 個15秒內離開\n",
      "第 68 個15秒內沒離開\n",
      "第 68 個15秒內沒人回話系統離開\n",
      "第 69 個標籤 新竹新手村男\n",
      "第 70 個15秒內離開\n",
      "第 71 個15秒內沒離開\n",
      "第 71 個15秒內沒人回話系統離開\n",
      "第 72 個標籤 男 182\n",
      "第 73 個標籤 S男找m女\n",
      "第 74 個標籤 找非單女\n",
      "第 75 個15秒內沒離開\n",
      "第 75 個15秒內沒人回話系統離開\n",
      "第 76 個標籤 39 叔\n",
      "第 77 個15秒內離開\n",
      "第 78 個15秒內沒離開\n",
      "第 78 個15秒內沒人回話系統離開\n",
      "第 79 個標籤 北部非單女請舉手\n",
      "第 80 個15秒內離開\n",
      "第 81 個標籤 新竹man29/177/16/4.5\n",
      "第 82 個15秒內沒離開\n",
      "第 82 15秒內回話 請問\n",
      "第 83 個標籤 找非單女\n",
      "第 84 個標籤 新北男找週六深夜約會\n",
      "第 85 個15秒內離開\n",
      "第 86 個15秒內離開\n",
      "第 87 個15秒內離開\n",
      "第 88 個15秒內沒離開\n",
      "第 88 個15秒內沒人回話系統離開\n",
      "第 89 個15秒內離開\n",
      "第 90 個標籤 新竹男找泡湯\n",
      "第 91 個標籤 S男找m女\n",
      "第 92 個標籤 新竹非單男\n",
      "第 93 個標籤 新北叔叔徵抱睡\n",
      "第 94 個標籤 北部非單女請舉手\n",
      "第 95 個標籤 新竹非單男\n",
      "第 96 個標籤 39 叔\n",
      "第 97 個標籤 北部非單女請舉手\n",
      "第 98 個15秒內沒離開\n",
      "第 98 個15秒內沒人回話系統離開\n",
      "第 99 個15秒內離開\n",
      "第 100 個15秒內離開\n",
      "第 101 個標籤 妳上面晃晃我下面逛逛\n",
      "第 102 個15秒內離開\n",
      "第 103 個標籤 男 182\n",
      "第 104 個15秒內離開\n",
      "第 105 個15秒內沒離開\n",
      "第 105 個15秒內沒人回話系統離開\n",
      "第 106 個標籤 S男找m女\n",
      "第 107 個15秒內沒離開\n",
      "第 107 個15秒內沒人回話系統離開\n",
      "第 108 個標籤 新竹男看夜景\n",
      "第 109 個15秒內離開\n",
      "第 110 個15秒內離開\n",
      "第 111 個標籤 男 182\n",
      "第 112 個標籤 男 182\n",
      "第 113 個15秒內離開\n",
      "第 114 個標籤 新竹男看夜景\n",
      "第 115 個標籤 找台南非單女生聊+約\n",
      "第 116 個標籤 新北叔叔徵抱睡\n",
      "第 117 個標籤 台北大叔\n",
      "第 118 個15秒內離開\n",
      "第 119 個標籤 新北男找週六深夜約會\n",
      "第 120 個15秒內離開\n",
      "第 121 個15秒內離開\n",
      "第 122 個15秒內離開\n",
      "第 123 個標籤 找非單女\n",
      "第 124 個標籤 單男\n",
      "第 125 個標籤 尋澎湖妹子\n",
      "第 126 個標籤 單男\n",
      "第 127 個標籤 新北男找週六深夜約會\n",
      "第 128 個15秒內離開\n",
      "第 129 個15秒內離開\n",
      "第 130 個15秒內沒離開\n",
      "第 130 個15秒內沒人回話系統離開\n",
      "第 131 個標籤 新北叔叔徵抱睡\n",
      "第 132 個標籤 尋澎湖妹子\n",
      "第 133 個標籤 台北大叔\n",
      "第 134 個標籤 北部非單女請舉手\n",
      "第 135 個15秒內離開\n",
      "第 136 個標籤 找人妻熟女聊色\n",
      "第 137 個15秒內沒離開\n",
      "第 137 個15秒內沒人回話系統離開\n",
      "第 138 個15秒內離開\n",
      "第 139 個標籤 新竹男看夜景\n",
      "第 140 個標籤 新竹男找泡湯\n",
      "第 141 個15秒內離開\n",
      "第 142 個15秒內離開\n",
      "第 143 個15秒內離開\n",
      "第 144 個15秒內離開\n",
      "第 145 個15秒內離開\n",
      "第 146 個15秒內離開\n",
      "第 147 個標籤 妳上面晃晃我下面逛逛\n",
      "第 148 個標籤 北部非單女請舉手\n",
      "第 149 個標籤 新竹男看夜景\n",
      "第 150 個標籤 台北 男\n",
      "第 151 個15秒內離開\n",
      "第 152 個15秒內沒離開\n",
      "第 152 個15秒內沒人回話系統離開\n",
      "第 153 個15秒內離開\n",
      "第 154 個15秒內沒離開\n",
      "第 154 個15秒內沒人回話系統離開\n",
      "第 155 個15秒內離開\n",
      "第 156 個15秒內沒離開\n",
      "第 157 個男 男\n",
      "第 157 個15秒內離開\n",
      "第 158 個標籤 妳上面晃晃我下面逛逛\n",
      "第 159 個15秒內沒離開\n",
      "第 159 15秒內回話 嗨\n"
     ]
    },
    {
     "ename": "KeyboardInterrupt",
     "evalue": "",
     "output_type": "error",
     "traceback": [
      "\u001b[1;31m---------------------------------------------------------------------------\u001b[0m",
      "\u001b[1;31mNoSuchElementException\u001b[0m                    Traceback (most recent call last)",
      "\u001b[1;32m<ipython-input-15-adbe705ec8b6>\u001b[0m in \u001b[0;36m<module>\u001b[1;34m\u001b[0m\n\u001b[0;32m     39\u001b[0m                 \u001b[0mdriver\u001b[0m\u001b[1;33m.\u001b[0m\u001b[0mimplicitly_wait\u001b[0m\u001b[1;33m(\u001b[0m\u001b[1;36m3\u001b[0m\u001b[1;33m)\u001b[0m\u001b[1;33m\u001b[0m\u001b[1;33m\u001b[0m\u001b[0m\n\u001b[1;32m---> 40\u001b[1;33m                 \u001b[0mdriver\u001b[0m\u001b[1;33m.\u001b[0m\u001b[0mfind_element_by_css_selector\u001b[0m\u001b[1;33m(\u001b[0m\u001b[1;34m\"div[class='message user other']>div>div[class='message-content small']\"\u001b[0m\u001b[1;33m)\u001b[0m\u001b[1;33m\u001b[0m\u001b[1;33m\u001b[0m\u001b[0m\n\u001b[0m\u001b[0;32m     41\u001b[0m                 \u001b[0mlabel\u001b[0m\u001b[1;33m=\u001b[0m\u001b[0mdriver\u001b[0m\u001b[1;33m.\u001b[0m\u001b[0mfind_element_by_css_selector\u001b[0m\u001b[1;33m(\u001b[0m\u001b[1;34m\"div[class='message user other']>div>div[class='message-content small']\"\u001b[0m\u001b[1;33m)\u001b[0m\u001b[1;33m.\u001b[0m\u001b[0mtext\u001b[0m\u001b[1;33m\u001b[0m\u001b[1;33m\u001b[0m\u001b[0m\n",
      "\u001b[1;32m~\\Anaconda3\\lib\\site-packages\\selenium\\webdriver\\remote\\webdriver.py\u001b[0m in \u001b[0;36mfind_element_by_css_selector\u001b[1;34m(self, css_selector)\u001b[0m\n\u001b[0;32m    597\u001b[0m         \"\"\"\n\u001b[1;32m--> 598\u001b[1;33m         \u001b[1;32mreturn\u001b[0m \u001b[0mself\u001b[0m\u001b[1;33m.\u001b[0m\u001b[0mfind_element\u001b[0m\u001b[1;33m(\u001b[0m\u001b[0mby\u001b[0m\u001b[1;33m=\u001b[0m\u001b[0mBy\u001b[0m\u001b[1;33m.\u001b[0m\u001b[0mCSS_SELECTOR\u001b[0m\u001b[1;33m,\u001b[0m \u001b[0mvalue\u001b[0m\u001b[1;33m=\u001b[0m\u001b[0mcss_selector\u001b[0m\u001b[1;33m)\u001b[0m\u001b[1;33m\u001b[0m\u001b[1;33m\u001b[0m\u001b[0m\n\u001b[0m\u001b[0;32m    599\u001b[0m \u001b[1;33m\u001b[0m\u001b[0m\n",
      "\u001b[1;32m~\\Anaconda3\\lib\\site-packages\\selenium\\webdriver\\remote\\webdriver.py\u001b[0m in \u001b[0;36mfind_element\u001b[1;34m(self, by, value)\u001b[0m\n\u001b[0;32m    977\u001b[0m             \u001b[1;34m'using'\u001b[0m\u001b[1;33m:\u001b[0m \u001b[0mby\u001b[0m\u001b[1;33m,\u001b[0m\u001b[1;33m\u001b[0m\u001b[1;33m\u001b[0m\u001b[0m\n\u001b[1;32m--> 978\u001b[1;33m             'value': value})['value']\n\u001b[0m\u001b[0;32m    979\u001b[0m \u001b[1;33m\u001b[0m\u001b[0m\n",
      "\u001b[1;32m~\\Anaconda3\\lib\\site-packages\\selenium\\webdriver\\remote\\webdriver.py\u001b[0m in \u001b[0;36mexecute\u001b[1;34m(self, driver_command, params)\u001b[0m\n\u001b[0;32m    320\u001b[0m         \u001b[1;32mif\u001b[0m \u001b[0mresponse\u001b[0m\u001b[1;33m:\u001b[0m\u001b[1;33m\u001b[0m\u001b[1;33m\u001b[0m\u001b[0m\n\u001b[1;32m--> 321\u001b[1;33m             \u001b[0mself\u001b[0m\u001b[1;33m.\u001b[0m\u001b[0merror_handler\u001b[0m\u001b[1;33m.\u001b[0m\u001b[0mcheck_response\u001b[0m\u001b[1;33m(\u001b[0m\u001b[0mresponse\u001b[0m\u001b[1;33m)\u001b[0m\u001b[1;33m\u001b[0m\u001b[1;33m\u001b[0m\u001b[0m\n\u001b[0m\u001b[0;32m    322\u001b[0m             response['value'] = self._unwrap_value(\n",
      "\u001b[1;32m~\\Anaconda3\\lib\\site-packages\\selenium\\webdriver\\remote\\errorhandler.py\u001b[0m in \u001b[0;36mcheck_response\u001b[1;34m(self, response)\u001b[0m\n\u001b[0;32m    241\u001b[0m             \u001b[1;32mraise\u001b[0m \u001b[0mexception_class\u001b[0m\u001b[1;33m(\u001b[0m\u001b[0mmessage\u001b[0m\u001b[1;33m,\u001b[0m \u001b[0mscreen\u001b[0m\u001b[1;33m,\u001b[0m \u001b[0mstacktrace\u001b[0m\u001b[1;33m,\u001b[0m \u001b[0malert_text\u001b[0m\u001b[1;33m)\u001b[0m\u001b[1;33m\u001b[0m\u001b[1;33m\u001b[0m\u001b[0m\n\u001b[1;32m--> 242\u001b[1;33m         \u001b[1;32mraise\u001b[0m \u001b[0mexception_class\u001b[0m\u001b[1;33m(\u001b[0m\u001b[0mmessage\u001b[0m\u001b[1;33m,\u001b[0m \u001b[0mscreen\u001b[0m\u001b[1;33m,\u001b[0m \u001b[0mstacktrace\u001b[0m\u001b[1;33m)\u001b[0m\u001b[1;33m\u001b[0m\u001b[1;33m\u001b[0m\u001b[0m\n\u001b[0m\u001b[0;32m    243\u001b[0m \u001b[1;33m\u001b[0m\u001b[0m\n",
      "\u001b[1;31mNoSuchElementException\u001b[0m: Message: no such element: Unable to locate element: {\"method\":\"css selector\",\"selector\":\"div[class='message user other']>div>div[class='message-content small']\"}\n  (Session info: chrome=95.0.4638.69)\n",
      "\nDuring handling of the above exception, another exception occurred:\n",
      "\u001b[1;31mNoSuchElementException\u001b[0m                    Traceback (most recent call last)",
      "\u001b[1;32m<ipython-input-15-adbe705ec8b6>\u001b[0m in \u001b[0;36m<module>\u001b[1;34m\u001b[0m\n\u001b[0;32m     44\u001b[0m                         \u001b[0mdriver\u001b[0m\u001b[1;33m.\u001b[0m\u001b[0mimplicitly_wait\u001b[0m\u001b[1;33m(\u001b[0m\u001b[1;36m10\u001b[0m\u001b[1;33m)\u001b[0m\u001b[1;33m\u001b[0m\u001b[1;33m\u001b[0m\u001b[0m\n\u001b[1;32m---> 45\u001b[1;33m                         \u001b[0mdriver\u001b[0m\u001b[1;33m.\u001b[0m\u001b[0mfind_element_by_css_selector\u001b[0m\u001b[1;33m(\u001b[0m\u001b[1;34m\"div[class='message alert']>button[class='message-content']\"\u001b[0m\u001b[1;33m)\u001b[0m\u001b[1;33m\u001b[0m\u001b[1;33m\u001b[0m\u001b[0m\n\u001b[0m\u001b[0;32m     46\u001b[0m \u001b[1;33m\u001b[0m\u001b[0m\n",
      "\u001b[1;32m~\\Anaconda3\\lib\\site-packages\\selenium\\webdriver\\remote\\webdriver.py\u001b[0m in \u001b[0;36mfind_element_by_css_selector\u001b[1;34m(self, css_selector)\u001b[0m\n\u001b[0;32m    597\u001b[0m         \"\"\"\n\u001b[1;32m--> 598\u001b[1;33m         \u001b[1;32mreturn\u001b[0m \u001b[0mself\u001b[0m\u001b[1;33m.\u001b[0m\u001b[0mfind_element\u001b[0m\u001b[1;33m(\u001b[0m\u001b[0mby\u001b[0m\u001b[1;33m=\u001b[0m\u001b[0mBy\u001b[0m\u001b[1;33m.\u001b[0m\u001b[0mCSS_SELECTOR\u001b[0m\u001b[1;33m,\u001b[0m \u001b[0mvalue\u001b[0m\u001b[1;33m=\u001b[0m\u001b[0mcss_selector\u001b[0m\u001b[1;33m)\u001b[0m\u001b[1;33m\u001b[0m\u001b[1;33m\u001b[0m\u001b[0m\n\u001b[0m\u001b[0;32m    599\u001b[0m \u001b[1;33m\u001b[0m\u001b[0m\n",
      "\u001b[1;32m~\\Anaconda3\\lib\\site-packages\\selenium\\webdriver\\remote\\webdriver.py\u001b[0m in \u001b[0;36mfind_element\u001b[1;34m(self, by, value)\u001b[0m\n\u001b[0;32m    977\u001b[0m             \u001b[1;34m'using'\u001b[0m\u001b[1;33m:\u001b[0m \u001b[0mby\u001b[0m\u001b[1;33m,\u001b[0m\u001b[1;33m\u001b[0m\u001b[1;33m\u001b[0m\u001b[0m\n\u001b[1;32m--> 978\u001b[1;33m             'value': value})['value']\n\u001b[0m\u001b[0;32m    979\u001b[0m \u001b[1;33m\u001b[0m\u001b[0m\n",
      "\u001b[1;32m~\\Anaconda3\\lib\\site-packages\\selenium\\webdriver\\remote\\webdriver.py\u001b[0m in \u001b[0;36mexecute\u001b[1;34m(self, driver_command, params)\u001b[0m\n\u001b[0;32m    320\u001b[0m         \u001b[1;32mif\u001b[0m \u001b[0mresponse\u001b[0m\u001b[1;33m:\u001b[0m\u001b[1;33m\u001b[0m\u001b[1;33m\u001b[0m\u001b[0m\n\u001b[1;32m--> 321\u001b[1;33m             \u001b[0mself\u001b[0m\u001b[1;33m.\u001b[0m\u001b[0merror_handler\u001b[0m\u001b[1;33m.\u001b[0m\u001b[0mcheck_response\u001b[0m\u001b[1;33m(\u001b[0m\u001b[0mresponse\u001b[0m\u001b[1;33m)\u001b[0m\u001b[1;33m\u001b[0m\u001b[1;33m\u001b[0m\u001b[0m\n\u001b[0m\u001b[0;32m    322\u001b[0m             response['value'] = self._unwrap_value(\n",
      "\u001b[1;32m~\\Anaconda3\\lib\\site-packages\\selenium\\webdriver\\remote\\errorhandler.py\u001b[0m in \u001b[0;36mcheck_response\u001b[1;34m(self, response)\u001b[0m\n\u001b[0;32m    241\u001b[0m             \u001b[1;32mraise\u001b[0m \u001b[0mexception_class\u001b[0m\u001b[1;33m(\u001b[0m\u001b[0mmessage\u001b[0m\u001b[1;33m,\u001b[0m \u001b[0mscreen\u001b[0m\u001b[1;33m,\u001b[0m \u001b[0mstacktrace\u001b[0m\u001b[1;33m,\u001b[0m \u001b[0malert_text\u001b[0m\u001b[1;33m)\u001b[0m\u001b[1;33m\u001b[0m\u001b[1;33m\u001b[0m\u001b[0m\n\u001b[1;32m--> 242\u001b[1;33m         \u001b[1;32mraise\u001b[0m \u001b[0mexception_class\u001b[0m\u001b[1;33m(\u001b[0m\u001b[0mmessage\u001b[0m\u001b[1;33m,\u001b[0m \u001b[0mscreen\u001b[0m\u001b[1;33m,\u001b[0m \u001b[0mstacktrace\u001b[0m\u001b[1;33m)\u001b[0m\u001b[1;33m\u001b[0m\u001b[1;33m\u001b[0m\u001b[0m\n\u001b[0m\u001b[0;32m    243\u001b[0m \u001b[1;33m\u001b[0m\u001b[0m\n",
      "\u001b[1;31mNoSuchElementException\u001b[0m: Message: no such element: Unable to locate element: {\"method\":\"css selector\",\"selector\":\"div[class='message alert']>button[class='message-content']\"}\n  (Session info: chrome=95.0.4638.69)\n",
      "\nDuring handling of the above exception, another exception occurred:\n",
      "\u001b[1;31mKeyboardInterrupt\u001b[0m                         Traceback (most recent call last)",
      "\u001b[1;32m<ipython-input-15-adbe705ec8b6>\u001b[0m in \u001b[0;36m<module>\u001b[1;34m\u001b[0m\n\u001b[0;32m    164\u001b[0m                                         \u001b[0mwinsound\u001b[0m\u001b[1;33m.\u001b[0m\u001b[0mPlaySound\u001b[0m\u001b[1;33m(\u001b[0m\u001b[1;34m'C:\\\\Users\\\\CloudMosa\\\\Downloads\\\\jupyter\\\\alart.wav'\u001b[0m\u001b[1;33m,\u001b[0m\u001b[0mwinsound\u001b[0m\u001b[1;33m.\u001b[0m\u001b[0mSND_ASYNC\u001b[0m\u001b[1;33m)\u001b[0m\u001b[1;33m\u001b[0m\u001b[1;33m\u001b[0m\u001b[0m\n\u001b[0;32m    165\u001b[0m                                         \u001b[1;31m#top.bell()\u001b[0m\u001b[1;33m\u001b[0m\u001b[1;33m\u001b[0m\u001b[1;33m\u001b[0m\u001b[0m\n\u001b[1;32m--> 166\u001b[1;33m                                         \u001b[0mtop\u001b[0m\u001b[1;33m.\u001b[0m\u001b[0mmainloop\u001b[0m\u001b[1;33m(\u001b[0m\u001b[1;33m)\u001b[0m\u001b[1;33m\u001b[0m\u001b[1;33m\u001b[0m\u001b[0m\n\u001b[0m\u001b[0;32m    167\u001b[0m                                         \u001b[1;32mif\u001b[0m \u001b[0mclick_btn\u001b[0m\u001b[1;33m==\u001b[0m\u001b[1;36m1\u001b[0m\u001b[1;33m:\u001b[0m\u001b[1;33m\u001b[0m\u001b[1;33m\u001b[0m\u001b[0m\n\u001b[0;32m    168\u001b[0m                                             \u001b[0mi\u001b[0m\u001b[1;33m+=\u001b[0m\u001b[1;36m1\u001b[0m\u001b[1;33m\u001b[0m\u001b[1;33m\u001b[0m\u001b[0m\n",
      "\u001b[1;32m~\\Anaconda3\\lib\\tkinter\\__init__.py\u001b[0m in \u001b[0;36mmainloop\u001b[1;34m(self, n)\u001b[0m\n\u001b[0;32m   1281\u001b[0m     \u001b[1;32mdef\u001b[0m \u001b[0mmainloop\u001b[0m\u001b[1;33m(\u001b[0m\u001b[0mself\u001b[0m\u001b[1;33m,\u001b[0m \u001b[0mn\u001b[0m\u001b[1;33m=\u001b[0m\u001b[1;36m0\u001b[0m\u001b[1;33m)\u001b[0m\u001b[1;33m:\u001b[0m\u001b[1;33m\u001b[0m\u001b[1;33m\u001b[0m\u001b[0m\n\u001b[0;32m   1282\u001b[0m         \u001b[1;34m\"\"\"Call the mainloop of Tk.\"\"\"\u001b[0m\u001b[1;33m\u001b[0m\u001b[1;33m\u001b[0m\u001b[0m\n\u001b[1;32m-> 1283\u001b[1;33m         \u001b[0mself\u001b[0m\u001b[1;33m.\u001b[0m\u001b[0mtk\u001b[0m\u001b[1;33m.\u001b[0m\u001b[0mmainloop\u001b[0m\u001b[1;33m(\u001b[0m\u001b[0mn\u001b[0m\u001b[1;33m)\u001b[0m\u001b[1;33m\u001b[0m\u001b[1;33m\u001b[0m\u001b[0m\n\u001b[0m\u001b[0;32m   1284\u001b[0m     \u001b[1;32mdef\u001b[0m \u001b[0mquit\u001b[0m\u001b[1;33m(\u001b[0m\u001b[0mself\u001b[0m\u001b[1;33m)\u001b[0m\u001b[1;33m:\u001b[0m\u001b[1;33m\u001b[0m\u001b[1;33m\u001b[0m\u001b[0m\n\u001b[0;32m   1285\u001b[0m         \u001b[1;34m\"\"\"Quit the Tcl interpreter. All widgets will be destroyed.\"\"\"\u001b[0m\u001b[1;33m\u001b[0m\u001b[1;33m\u001b[0m\u001b[0m\n",
      "\u001b[1;31mKeyboardInterrupt\u001b[0m: "
     ]
    }
   ],
   "source": [
    "#目前完整版\n",
    "def leave_button():\n",
    "    global click_btn\n",
    "    click_btn=1\n",
    "    driver.find_element_by_css_selector(\"div[class='bottom-tool-bar']>i[class='tool-button leave-chat']\").click()\n",
    "    try:\n",
    "        driver.find_element_by_css_selector(\"button[class='modal-default-button confirm']\").click()\n",
    "    except Exception as e:\n",
    "        \n",
    "        print('error')\n",
    "    driver.find_element_by_css_selector(\"button[class='start']\").click()\n",
    "    top.destroy()\n",
    "    \n",
    "def command_restart():\n",
    "    global restart\n",
    "    restart=1\n",
    "    driver.refresh()\n",
    "    new=driver.find_element_by_css_selector(\"div[class='home']>button[class='start']\")\n",
    "    try:\n",
    "        driver.implicitly_wait(5)\n",
    "        new.click()\n",
    "    except:\n",
    "        driver.find_element_by_css_selector(\"button[class='start.hover']\").click()\n",
    "    error.destroy()\n",
    "\n",
    "def close_window_error():\n",
    "    global restart\n",
    "    restart=0\n",
    "    error.destroy()\n",
    "def close_window_top():\n",
    "    global click_btn\n",
    "    click_btn=0\n",
    "    top.destroy()\n",
    "\n",
    "while i!=0:\n",
    "    \n",
    "    \n",
    "    try:\n",
    "                driver.implicitly_wait(3)\n",
    "                driver.find_element_by_css_selector(\"div[class='message user other']>div>div[class='message-content small']\")\n",
    "                label=driver.find_element_by_css_selector(\"div[class='message user other']>div>div[class='message-content small']\").text\n",
    "    except NoSuchElementException as e:\n",
    "                    try:\n",
    "                        driver.implicitly_wait(10)\n",
    "                        driver.find_element_by_css_selector(\"div[class='message alert']>button[class='message-content']\")\n",
    "                        \n",
    "                    except NoSuchElementException as e:\n",
    "                        print(\"第\",i,\"個15秒內沒離開\")\n",
    "                        try:\n",
    "                            driver.implicitly_wait(1)\n",
    "                            driver.find_element_by_css_selector(\"div[class='message user other']>div>div[class='message-content']\")\n",
    "                            stranger_text=driver.find_element_by_css_selector(\"div[class='message user other']>div>div[class='message-content']\").text\n",
    "                            boy=\"男\"\n",
    "                            ad='叔'\n",
    "                            ans= boy in stranger_text\n",
    "                            ans_ad=ad in stranger_text\n",
    "                        except NoSuchElementException as e:\n",
    "                            try:\n",
    "                                print(\"第\",i,\"個15秒內沒人回話系統離開\")\n",
    "                                driver.implicitly_wait(5)   \n",
    "                                driver.find_element_by_css_selector(\"div[class='bottom-tool-bar']>i[class='tool-button leave-chat']\").click()\n",
    "                                driver.implicitly_wait(5)\n",
    "                                driver.find_element_by_css_selector(\"button[class='modal-default-button confirm']\").click()\n",
    "                                driver.implicitly_wait(5)\n",
    "                                driver.find_element_by_class_name(\"start\").click()\n",
    "                                i+=1\n",
    "                            \n",
    "                            except Exception as e: \n",
    "                                try:\n",
    "                                    driver.refresh()\n",
    "                                    driver.implicitly_wait(10)\n",
    "                                    driver.find_element_by_class_name(\"start\").click()\n",
    "                                    i+=1\n",
    "                                except Exception as e:\n",
    "                                    try:\n",
    "                                            driver.find_element_by_css_selector(\"div[class='bottom-tool-bar']>i[class='tool-button leave-chat']\").click()\n",
    "                                            driver.implicitly_wait(3)\n",
    "                                            driver.find_element_by_class_name(\"start\").click()\n",
    "                                            i+=1\n",
    "                                    except Exception as e:\n",
    "                                                          \n",
    "                                            try:\n",
    "                                                driver.find_element_by_css_selector(\"div[class='bottom-tool-bar']>i[class='tool-button leave-chat']\").click()\n",
    "                                                driver.implicitly_wait(3)\n",
    "                                                driver.find_element_by_class_name(\"start\").click()\n",
    "                                                i+=1\n",
    "                                            except Exception as e: \n",
    "                                                    try:\n",
    "                                                        driver.find_element_by_css_selector(\"button[class='modal-default-button confirm']\").click()\n",
    "                                                        driver.implicitly_wait(3)\n",
    "                                                        driver.find_element_by_class_name(\"start\").click()\n",
    "                                                        i+=1  \n",
    "                                                    except Exception as e:\n",
    "                                                        error = Tk()\n",
    "                                                        error.title(\"出錯啦(第1階段)\")\n",
    "                                                        error.geometry(\"400x200+450+300\")\n",
    "                                                        error_scale = Canvas(height=150, width=300)\n",
    "                                                        my_label = Label(error, text = 'Knock壞掉啦!',font=12)\n",
    "                                                        btn_leave = Button(text = \"關閉視窗\",command = close_window_error,anchor='e').place(x=140,y=100)\n",
    "                                                        btn_restart = Button(text = \"重新開始\",command = command_restart,anchor='e').place(x=210,y=100)\n",
    "                                                        my_label.pack()\n",
    "                                                        time.sleep(1)\n",
    "                                                        winsound.PlaySound('C:\\\\Users\\\\CloudMosa\\\\Downloads\\\\jupyter\\\\alart.wav',winsound.SND_ASYNC)\n",
    "                                                        #error.bell()\n",
    "                                                        error.mainloop()\n",
    "                                                        if restart==1:\n",
    "                                                                i+=1\n",
    "                                                        elif restart==0:\n",
    "                                                                break \n",
    "\n",
    "                        else:\n",
    "                            try:\n",
    "                                if ans==True:\n",
    "                                    driver.implicitly_wait(5)   \n",
    "                                    driver.find_element_by_css_selector(\"div[class='bottom-tool-bar']>i[class='tool-button leave-chat']\").click()\n",
    "                                    driver.implicitly_wait(5)\n",
    "                                    driver.find_element_by_css_selector(\"button[class='modal-default-button confirm']\").click()\n",
    "                                    driver.implicitly_wait(5)\n",
    "                                    driver.find_element_by_class_name(\"start\").click()\n",
    "                                    i+=1\n",
    "                                    print(\"第\",i,\"個男\",stranger_text)\n",
    "                                elif ans_ad==True:\n",
    "                                    driver.implicitly_wait(5)   \n",
    "                                    driver.find_element_by_css_selector(\"div[class='bottom-tool-bar']>i[class='tool-button leave-chat']\").click()\n",
    "                                    driver.implicitly_wait(5)\n",
    "                                    driver.find_element_by_css_selector(\"button[class='modal-default-button confirm']\").click()\n",
    "                                    driver.implicitly_wait(5)\n",
    "                                    driver.find_element_by_class_name(\"start\").click()\n",
    "                                    i+=1\n",
    "                                else:\n",
    "                                    freq=0\n",
    "                                    for emoji in UNICODE_EMOJI['en']:\n",
    "                                        if emoji in stranger_text:\n",
    "                                            freq+=1\n",
    "                                    if freq>=1:\n",
    "                                        print(\"第\",i,\"15秒內回話\",stranger_text)\n",
    "                                        top = Tk()\n",
    "                                        top.title(\"Knock有人留下\")\n",
    "                                        top.geometry(\"400x200+450+300\")\n",
    "                                        top_scale = Canvas(height=150, width=300)\n",
    "                                        my_label = Label(top, text =('有人留言帶有emoji'),font=12)\n",
    "                                        leave_btn=Button(text='下一位',command=leave_button).place(x=210,y=100)\n",
    "                                        button = Button(text = \"關閉視窗\",command = close_window_top,anchor='e').place(x=140,y=100)\n",
    "                                        my_label.pack()\n",
    "                                        #time.sleep(1)\n",
    "                                        winsound.PlaySound('C:\\\\Users\\\\CloudMosa\\\\Downloads\\\\jupyter\\\\alart.wav',winsound.SND_ASYNC)\n",
    "                                        #top.bell()\n",
    "                                        top.mainloop()\n",
    "                                        if click_btn==1:\n",
    "                                            i+=1\n",
    "                                        elif click_btn==0:\n",
    "                                            break         \n",
    "                                    elif freq==0:\n",
    "                                        print(\"第\",i,\"15秒內回話\",stranger_text)\n",
    "                                        top = Tk()\n",
    "                                        top.title(\"Knock有人留下\")\n",
    "                                        top.geometry(\"400x200+450+300\")\n",
    "                                        top_scale = Canvas(height=150, width=300)\n",
    "                                        my_label = Label(top, text =('有人留言',stranger_text),font=12)\n",
    "                                        leave_btn=Button(text='下一位',command=leave_button).place(x=210,y=100)\n",
    "                                        button = Button(text = \"關閉視窗\",command = close_window_top,anchor='e').place(x=140,y=100)\n",
    "                                        my_label.pack()\n",
    "                                        #time.sleep(1)\n",
    "                                        winsound.PlaySound('C:\\\\Users\\\\CloudMosa\\\\Downloads\\\\jupyter\\\\alart.wav',winsound.SND_ASYNC)\n",
    "                                        #top.bell()\n",
    "                                        top.mainloop()\n",
    "                                        if click_btn==1:\n",
    "                                            i+=1\n",
    "                                        elif click_btn==0:\n",
    "                                            break       \n",
    "                                    \n",
    "                            except Exception as e: \n",
    "                                print(e)\n",
    "                                error = Tk()\n",
    "                                error.title(\"出錯啦(第2階段)\")\n",
    "                                error.geometry(\"400x200+450+300\")\n",
    "                                error_scale = Canvas(height=150, width=300)\n",
    "                                my_label = Label(error, text = 'Knock壞掉啦!',font=12)\n",
    "                                btn_leave = Button(text = \"關閉視窗\",command = close_window_error,anchor='e').place(x=140,y=100)\n",
    "                                btn_restart = Button(text = \"重新開始\",command = command_restart,anchor='e').place(x=210,y=100)\n",
    "                                my_label.pack()\n",
    "                                #time.sleep(1)\n",
    "                                winsound.PlaySound('C:\\\\Users\\\\CloudMosa\\\\Downloads\\\\jupyter\\\\alart.wav',winsound.SND_ASYNC)\n",
    "                                #error.bell()\n",
    "                                error.mainloop()\n",
    "                                if restart==1:\n",
    "                                        i+=1\n",
    "                                elif restart==0:\n",
    "                                        break  \n",
    "                                \n",
    "                    else:\n",
    "                        try:\n",
    "                            print(\"第\",i,\"個15秒內離開\")\n",
    "                            driver.implicitly_wait(3)\n",
    "                            label=driver.find_element_by_css_selector(\"div[class='message alert']>button[class='message-content']\")\n",
    "                            driver.execute_script(\"arguments[0].scrollIntoView();\", label)\n",
    "                            driver.implicitly_wait(3)\n",
    "                            driver.find_element_by_css_selector(\"div[class='message alert']>button[class='message-content']\").click()\n",
    "                            driver.implicitly_wait(3)\n",
    "                            i+=1\n",
    "                        except Exception as e: \n",
    "                            try:\n",
    "                                    driver.refresh()\n",
    "                                    driver.implicitly_wait(10)\n",
    "                                    driver.find_element_by_class_name(\"start\").click()\n",
    "                                    i+=1\n",
    "                            except Exception as e:        \n",
    "                                    try:\n",
    "                                        driver.find_element_by_css_selector(\"div[class='bottom-tool-bar']>i[class='tool-button leave-chat']\").click()\n",
    "                                        driver.implicitly_wait(3)\n",
    "                                        driver.find_element_by_class_name(\"start\").click()\n",
    "                                        i+=1\n",
    "                                    except Exception as e: \n",
    "                                        try:\n",
    "                                            driver.find_element_by_css_selector(\"button[class='modal-default-button confirm']\").click()\n",
    "                                            driver.implicitly_wait(3)\n",
    "                                            driver.find_element_by_class_name(\"start\").click()\n",
    "                                            i+=1\n",
    "                                        except Exception as e:     \n",
    "\n",
    "                                            error = Tk()\n",
    "                                            error.title(\"出錯啦(第3階段)\")\n",
    "                                            error.geometry(\"400x200+450+300\")\n",
    "                                            error_scale = Canvas(height=150, width=300)\n",
    "                                            my_label = Label(error, text = 'Knock壞掉啦!',font=12)\n",
    "                                            btn_leave = Button(text = \"關閉視窗\",command = close_window_error,anchor='e').place(x=140,y=100)\n",
    "                                            btn_restart = Button(text = \"重新開始\",command = command_restart,anchor='e').place(x=210,y=100)\n",
    "                                            my_label.pack()\n",
    "                                            #time.sleep(1)\n",
    "                                            winsound.PlaySound('C:\\\\Users\\\\CloudMosa\\\\Downloads\\\\jupyter\\\\alart.wav',winsound.SND_ASYNC)\n",
    "                                            #error.bell()\n",
    "                                            error.mainloop()\n",
    "                                            if restart==1:\n",
    "                                                    i+=1\n",
    "                                            elif restart==0:\n",
    "                                                break\n",
    "                    \n",
    "                        \n",
    "    else:\n",
    "        try:\n",
    "                    print(\"第\",i,\"個標籤\",label)\n",
    "                    driver.implicitly_wait(2)   \n",
    "                    driver.find_element_by_css_selector(\"div[class='bottom-tool-bar']>i[class='tool-button leave-chat']\").click()\n",
    "                    driver.implicitly_wait(3)\n",
    "                    driver.find_element_by_css_selector(\"button[class='modal-default-button confirm']\").click()\n",
    "                    driver.implicitly_wait(3)\n",
    "                    driver.find_element_by_class_name(\"start\").click()\n",
    "                    i+=1\n",
    "        except Exception as e: \n",
    "            try:\n",
    "                \n",
    "                                    driver.refresh()\n",
    "                                    driver.implicitly_wait(10)\n",
    "                                    driver.find_element_by_class_name(\"start\").click()\n",
    "                                    i+=1\n",
    "            \n",
    "                \n",
    "            except Exception as e: \n",
    "                try:\n",
    "                     driver.find_element_by_css_selector(\"div[class='bottom-tool-bar']>i[class='tool-button leave-chat']\").click()\n",
    "                     driver.implicitly_wait(3)\n",
    "                     driver.find_element_by_class_name(\"start\").click()\n",
    "                     i+=1\n",
    "                except Exception as e: \n",
    "                    try:\n",
    "                         driver.find_element_by_css_selector(\"button[class='modal-default-button confirm']\").click()\n",
    "                         driver.implicitly_wait(3)\n",
    "                         driver.find_element_by_class_name(\"start\").click()\n",
    "                         i+=1\n",
    "                    except Exception as e:     \n",
    "\n",
    "                                error = Tk()\n",
    "                                error.title(\"出錯啦(第4階段)\")\n",
    "                                error.geometry(\"400x200+450+300\")\n",
    "                                error_scale = Canvas(height=150, width=300)\n",
    "                                my_label = Label(error, text = 'Knock壞掉啦!',font=12)\n",
    "                                btn_leave = Button(text = \"關閉視窗\",command = close_window_error,anchor='e').place(x=140,y=100)\n",
    "                                btn_restart = Button(text = \"重新開始\",command = command_restart,anchor='e').place(x=210,y=100)\n",
    "                                my_label.pack()\n",
    "                                #time.sleep(1)\n",
    "                                winsound.PlaySound('C:\\\\Users\\\\CloudMosa\\\\Downloads\\\\jupyter\\\\alart.wav',winsound.SND_ASYNC)\n",
    "                                #error.bell()\n",
    "                                error.mainloop()\n",
    "                                if restart==1:\n",
    "                                        i+=1\n",
    "                                elif restart==0:\n",
    "                                        break \n",
    "\n",
    "  \n",
    "                \n",
    "        \n",
    "    \n",
    "       \n",
    "    time.sleep(1)  "
   ]
  },
  {
   "cell_type": "code",
   "execution_count": null,
   "metadata": {
    "scrolled": true
   },
   "outputs": [],
   "source": [
    "\n",
    " driver.find_element_by_class_name(\"start\").click()"
   ]
  },
  {
   "cell_type": "code",
   "execution_count": null,
   "metadata": {},
   "outputs": [],
   "source": [
    "driver.find_element_by_css_selector(\"div[class='message alert']>button[class='message-content']\").click()"
   ]
  },
  {
   "cell_type": "code",
   "execution_count": null,
   "metadata": {},
   "outputs": [],
   "source": [
    "driver.find_element_by_css_selector(\"input[type='text']\").send_keys('嗨尋找喜愛腹肌的妳')"
   ]
  },
  {
   "cell_type": "code",
   "execution_count": null,
   "metadata": {},
   "outputs": [],
   "source": [
    "driver.find_element_by_css_selector(\"button[class='confirm']\").click()"
   ]
  },
  {
   "cell_type": "code",
   "execution_count": null,
   "metadata": {},
   "outputs": [],
   "source": [
    "from tkinter import *\n",
    "from tkinter import messagebox"
   ]
  },
  {
   "cell_type": "code",
   "execution_count": null,
   "metadata": {},
   "outputs": [],
   "source": [
    "#app > div > div.content > div:nth-child(3) > div > div > div > span\n",
    "#app > div > div.content > div:nth-child(3) > div > div > div\n",
    "driver.find_element_by_css_selector(\"div[class='message alert']>button[class='message-content']\").click()"
   ]
  },
  {
   "cell_type": "code",
   "execution_count": null,
   "metadata": {},
   "outputs": [
    {
     "data": {
      "text/plain": [
       "'男'"
      ]
     },
     "execution_count": 152,
     "metadata": {},
     "output_type": "execute_result"
    }
   ],
   "source": [
    "driver.find_element_by_css_selector(\"div[class='message user other']>div>div[class='message-content']\").text"
   ]
  },
  {
   "cell_type": "code",
   "execution_count": null,
   "metadata": {},
   "outputs": [],
   "source": [
    "driver.find_element_by_css_selector(\"div[class='message user other']>div[class='message-info']>div[class='message-content']\").is_displayed()"
   ]
  },
  {
   "cell_type": "code",
   "execution_count": null,
   "metadata": {},
   "outputs": [],
   "source": [
    "driver.find_element_by_css_selector(\"button[class='modal-default-button confirm']\").click()"
   ]
  },
  {
   "cell_type": "code",
   "execution_count": null,
   "metadata": {},
   "outputs": [
    {
     "data": {
      "text/plain": [
       "True"
      ]
     },
     "execution_count": 113,
     "metadata": {},
     "output_type": "execute_result"
    }
   ],
   "source": [
    "driver.find_element_by_css_selector(\"div[class='message user other']>div>div[class='message-content small']\").is_displayed()\n",
    "#app > div > div.content > div:nth-child(4) > div > div > div"
   ]
  },
  {
   "cell_type": "code",
   "execution_count": null,
   "metadata": {},
   "outputs": [],
   "source": [
    "driver.find_element_by_css_selector(\"div[class='bottom-tool-bar']>i[class='tool-button leave-chat']\").click()"
   ]
  },
  {
   "cell_type": "code",
   "execution_count": null,
   "metadata": {},
   "outputs": [],
   "source": [
    ">i[class='tool-button leave-chat']"
   ]
  },
  {
   "cell_type": "code",
   "execution_count": null,
   "metadata": {},
   "outputs": [
    {
     "data": {
      "text/plain": [
       "'系統訊息：'"
      ]
     },
     "execution_count": 29,
     "metadata": {},
     "output_type": "execute_result"
    }
   ],
   "source": [
    "driver.find_element_by_css_selector(\"span.hidden_text\").text"
   ]
  },
  {
   "cell_type": "code",
   "execution_count": null,
   "metadata": {},
   "outputs": [],
   "source": [
    "/html/body/div[4]/div[3]/div[1]/blockquote/div[10]/text()[1]"
   ]
  },
  {
   "cell_type": "code",
   "execution_count": null,
   "metadata": {},
   "outputs": [
    {
     "ename": "SyntaxError",
     "evalue": "invalid syntax (<ipython-input-34-cdb2e9b9b518>, line 1)",
     "output_type": "error",
     "traceback": [
      "\u001b[1;36m  File \u001b[1;32m\"<ipython-input-34-cdb2e9b9b518>\"\u001b[1;36m, line \u001b[1;32m1\u001b[0m\n\u001b[1;33m    driver.find_element_by_xpath(\"//*[@id=\"messages\"]/div[10]/text()\").text\u001b[0m\n\u001b[1;37m                                                  ^\u001b[0m\n\u001b[1;31mSyntaxError\u001b[0m\u001b[1;31m:\u001b[0m invalid syntax\n"
     ]
    }
   ],
   "source": [
    "driver.find_element_by_xpath(\"//*[@id=\"messages\"]/div[10]/text()\").text"
   ]
  },
  {
   "cell_type": "code",
   "execution_count": null,
   "metadata": {},
   "outputs": [
    {
     "ename": "SyntaxError",
     "evalue": "invalid syntax (<ipython-input-50-4078d51d1ade>, line 2)",
     "output_type": "error",
     "traceback": [
      "\u001b[1;36m  File \u001b[1;32m\"<ipython-input-50-4078d51d1ade>\"\u001b[1;36m, line \u001b[1;32m2\u001b[0m\n\u001b[1;33m    if a=\"''\":\u001b[0m\n\u001b[1;37m        ^\u001b[0m\n\u001b[1;31mSyntaxError\u001b[0m\u001b[1;31m:\u001b[0m invalid syntax\n"
     ]
    }
   ],
   "source": [
    "a=driver.find_element_by_css_selector(\"span[class='hidden_text']+br\").text\n",
    "if a=\"''\":\n",
    "    print(\"ok\")"
   ]
  },
  {
   "cell_type": "code",
   "execution_count": null,
   "metadata": {},
   "outputs": [
    {
     "data": {
      "text/plain": [
       "True"
      ]
     },
     "execution_count": 85,
     "metadata": {},
     "output_type": "execute_result"
    }
   ],
   "source": [
    "driver.find_element_by_partial_link_text('尋人').is_displayed()"
   ]
  },
  {
   "cell_type": "code",
   "execution_count": null,
   "metadata": {},
   "outputs": [],
   "source": [
    "driver.find_element_by_css_selector(\"button.message-content\").click()"
   ]
  },
  {
   "cell_type": "code",
   "execution_count": null,
   "metadata": {},
   "outputs": [],
   "source": [
    "#app > div > div.content > div:nth-child(6) > div > button"
   ]
  },
  {
   "cell_type": "code",
   "execution_count": null,
   "metadata": {},
   "outputs": [],
   "source": [
    "driver.find_element_by_class_name('message-content').click()"
   ]
  },
  {
   "cell_type": "code",
   "execution_count": null,
   "metadata": {},
   "outputs": [],
   "source": [
    "driver.find_element_by_xpath('//*[@id=\"app\"]/div/div[1]/div[6]/div/button').click()"
   ]
  },
  {
   "cell_type": "code",
   "execution_count": null,
   "metadata": {},
   "outputs": [
    {
     "ename": "SyntaxError",
     "evalue": "invalid syntax (<ipython-input-119-a5101fe86b7c>, line 1)",
     "output_type": "error",
     "traceback": [
      "\u001b[1;36m  File \u001b[1;32m\"<ipython-input-119-a5101fe86b7c>\"\u001b[1;36m, line \u001b[1;32m1\u001b[0m\n\u001b[1;33m    <i title=\"離開對話\" class=\"tool-button leave-chat\"></i>\u001b[0m\n\u001b[1;37m    ^\u001b[0m\n\u001b[1;31mSyntaxError\u001b[0m\u001b[1;31m:\u001b[0m invalid syntax\n"
     ]
    }
   ],
   "source": [
    "<i title=\"離開對話\" class=\"tool-button leave-chat\"></i>\n",
    "driver.find_element_by_class_name('tool-button leave-chat').is_displayed()"
   ]
  },
  {
   "cell_type": "code",
   "execution_count": null,
   "metadata": {},
   "outputs": [
    {
     "data": {
      "text/plain": [
       "'系統訊息：對方離開了，請按離開按鈕回到首頁\\n\\n其他人在聊什麼?\\n我想看看尋人啟事'"
      ]
     },
     "execution_count": 51,
     "metadata": {},
     "output_type": "execute_result"
    }
   ],
   "source": [
    "driver.find_element_by_xpath('//*[@id=\"messages\"]/div[20]/a').text"
   ]
  },
  {
   "cell_type": "code",
   "execution_count": null,
   "metadata": {},
   "outputs": [
    {
     "data": {
      "text/plain": [
       "'系統訊息：對方離開了，請按離開按鈕回到首頁\\n\\n來臉書按個讚\\n看看別人怎麼聊😂'"
      ]
     },
     "execution_count": 53,
     "metadata": {},
     "output_type": "execute_result"
    }
   ],
   "source": [
    "driver.find_element_by_xpath('//*[@id=\"messages\"]/div[10]').text"
   ]
  },
  {
   "cell_type": "code",
   "execution_count": null,
   "metadata": {},
   "outputs": [],
   "source": [
    "c=driver.find_element_by_link_text('')"
   ]
  },
  {
   "cell_type": "code",
   "execution_count": null,
   "metadata": {},
   "outputs": [],
   "source": [
    "c.send_keys('哈囉是喜歡腹肌的女孩嗎')"
   ]
  },
  {
   "cell_type": "code",
   "execution_count": null,
   "metadata": {},
   "outputs": [],
   "source": [
    "from selenium.webdriver.common.keys import Keys\n",
    "c.send_keys(Keys.RETURN)"
   ]
  },
  {
   "cell_type": "code",
   "execution_count": null,
   "metadata": {},
   "outputs": [],
   "source": [
    "if "
   ]
  }
 ],
 "metadata": {
  "interpreter": {
   "hash": "c44c13a13cd50afba8cb826606cf6634a560e0fe4a51813a7900f2fbc606dbb4"
  },
  "kernelspec": {
   "display_name": "Python 3.7.4 64-bit ('base': conda)",
   "name": "python3"
  },
  "language_info": {
   "codemirror_mode": {
    "name": "ipython",
    "version": 3
   },
   "file_extension": ".py",
   "mimetype": "text/x-python",
   "name": "python",
   "nbconvert_exporter": "python",
   "pygments_lexer": "ipython3",
   "version": "3.7.4"
  }
 },
 "nbformat": 4,
 "nbformat_minor": 2
}
